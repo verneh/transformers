{
  "nbformat": 4,
  "nbformat_minor": 0,
  "metadata": {
    "colab": {
      "name": "gan.ipynb",
      "provenance": [],
      "authorship_tag": "ABX9TyPBffI3CFGEgEqFhcEY2bW3",
      "include_colab_link": true
    },
    "kernelspec": {
      "name": "python3",
      "display_name": "Python 3"
    },
    "language_info": {
      "name": "python"
    },
    "accelerator": "GPU",
    "widgets": {
      "application/vnd.jupyter.widget-state+json": {
        "0077f130a498452b89c3f0e337151d81": {
          "model_module": "@jupyter-widgets/controls",
          "model_name": "HBoxModel",
          "model_module_version": "1.5.0",
          "state": {
            "_dom_classes": [],
            "_model_module": "@jupyter-widgets/controls",
            "_model_module_version": "1.5.0",
            "_model_name": "HBoxModel",
            "_view_count": null,
            "_view_module": "@jupyter-widgets/controls",
            "_view_module_version": "1.5.0",
            "_view_name": "HBoxView",
            "box_style": "",
            "children": [
              "IPY_MODEL_f665a53b2fc84014a80cc21e3acac323",
              "IPY_MODEL_6d5bf29bd0e4419d852927e6e4aa6b75",
              "IPY_MODEL_8b4306dfd57b4a6e809f65969fd876aa"
            ],
            "layout": "IPY_MODEL_410c0c293c5a46e6aa139e7ba743dc41"
          }
        },
        "f665a53b2fc84014a80cc21e3acac323": {
          "model_module": "@jupyter-widgets/controls",
          "model_name": "HTMLModel",
          "model_module_version": "1.5.0",
          "state": {
            "_dom_classes": [],
            "_model_module": "@jupyter-widgets/controls",
            "_model_module_version": "1.5.0",
            "_model_name": "HTMLModel",
            "_view_count": null,
            "_view_module": "@jupyter-widgets/controls",
            "_view_module_version": "1.5.0",
            "_view_name": "HTMLView",
            "description": "",
            "description_tooltip": null,
            "layout": "IPY_MODEL_a70738666a374cf8a1a0492e83229953",
            "placeholder": "​",
            "style": "IPY_MODEL_9c140ced6c0244788ea1e0dd918700b2",
            "value": "100%"
          }
        },
        "6d5bf29bd0e4419d852927e6e4aa6b75": {
          "model_module": "@jupyter-widgets/controls",
          "model_name": "FloatProgressModel",
          "model_module_version": "1.5.0",
          "state": {
            "_dom_classes": [],
            "_model_module": "@jupyter-widgets/controls",
            "_model_module_version": "1.5.0",
            "_model_name": "FloatProgressModel",
            "_view_count": null,
            "_view_module": "@jupyter-widgets/controls",
            "_view_module_version": "1.5.0",
            "_view_name": "ProgressView",
            "bar_style": "success",
            "description": "",
            "description_tooltip": null,
            "layout": "IPY_MODEL_771adf637df24ed1a34cdb4774ff750a",
            "max": 500,
            "min": 0,
            "orientation": "horizontal",
            "style": "IPY_MODEL_884be35765d94894bcb3d2f3ba193796",
            "value": 500
          }
        },
        "8b4306dfd57b4a6e809f65969fd876aa": {
          "model_module": "@jupyter-widgets/controls",
          "model_name": "HTMLModel",
          "model_module_version": "1.5.0",
          "state": {
            "_dom_classes": [],
            "_model_module": "@jupyter-widgets/controls",
            "_model_module_version": "1.5.0",
            "_model_name": "HTMLModel",
            "_view_count": null,
            "_view_module": "@jupyter-widgets/controls",
            "_view_module_version": "1.5.0",
            "_view_name": "HTMLView",
            "description": "",
            "description_tooltip": null,
            "layout": "IPY_MODEL_43592f23f2cf4915a924a219b76d649b",
            "placeholder": "​",
            "style": "IPY_MODEL_3437aa13a9d04b0badc34eda80317965",
            "value": " 500/500 [01:08&lt;00:00,  7.44it/s]"
          }
        },
        "410c0c293c5a46e6aa139e7ba743dc41": {
          "model_module": "@jupyter-widgets/base",
          "model_name": "LayoutModel",
          "model_module_version": "1.2.0",
          "state": {
            "_model_module": "@jupyter-widgets/base",
            "_model_module_version": "1.2.0",
            "_model_name": "LayoutModel",
            "_view_count": null,
            "_view_module": "@jupyter-widgets/base",
            "_view_module_version": "1.2.0",
            "_view_name": "LayoutView",
            "align_content": null,
            "align_items": null,
            "align_self": null,
            "border": null,
            "bottom": null,
            "display": null,
            "flex": null,
            "flex_flow": null,
            "grid_area": null,
            "grid_auto_columns": null,
            "grid_auto_flow": null,
            "grid_auto_rows": null,
            "grid_column": null,
            "grid_gap": null,
            "grid_row": null,
            "grid_template_areas": null,
            "grid_template_columns": null,
            "grid_template_rows": null,
            "height": null,
            "justify_content": null,
            "justify_items": null,
            "left": null,
            "margin": null,
            "max_height": null,
            "max_width": null,
            "min_height": null,
            "min_width": null,
            "object_fit": null,
            "object_position": null,
            "order": null,
            "overflow": null,
            "overflow_x": null,
            "overflow_y": null,
            "padding": null,
            "right": null,
            "top": null,
            "visibility": null,
            "width": null
          }
        },
        "a70738666a374cf8a1a0492e83229953": {
          "model_module": "@jupyter-widgets/base",
          "model_name": "LayoutModel",
          "model_module_version": "1.2.0",
          "state": {
            "_model_module": "@jupyter-widgets/base",
            "_model_module_version": "1.2.0",
            "_model_name": "LayoutModel",
            "_view_count": null,
            "_view_module": "@jupyter-widgets/base",
            "_view_module_version": "1.2.0",
            "_view_name": "LayoutView",
            "align_content": null,
            "align_items": null,
            "align_self": null,
            "border": null,
            "bottom": null,
            "display": null,
            "flex": null,
            "flex_flow": null,
            "grid_area": null,
            "grid_auto_columns": null,
            "grid_auto_flow": null,
            "grid_auto_rows": null,
            "grid_column": null,
            "grid_gap": null,
            "grid_row": null,
            "grid_template_areas": null,
            "grid_template_columns": null,
            "grid_template_rows": null,
            "height": null,
            "justify_content": null,
            "justify_items": null,
            "left": null,
            "margin": null,
            "max_height": null,
            "max_width": null,
            "min_height": null,
            "min_width": null,
            "object_fit": null,
            "object_position": null,
            "order": null,
            "overflow": null,
            "overflow_x": null,
            "overflow_y": null,
            "padding": null,
            "right": null,
            "top": null,
            "visibility": null,
            "width": null
          }
        },
        "9c140ced6c0244788ea1e0dd918700b2": {
          "model_module": "@jupyter-widgets/controls",
          "model_name": "DescriptionStyleModel",
          "model_module_version": "1.5.0",
          "state": {
            "_model_module": "@jupyter-widgets/controls",
            "_model_module_version": "1.5.0",
            "_model_name": "DescriptionStyleModel",
            "_view_count": null,
            "_view_module": "@jupyter-widgets/base",
            "_view_module_version": "1.2.0",
            "_view_name": "StyleView",
            "description_width": ""
          }
        },
        "771adf637df24ed1a34cdb4774ff750a": {
          "model_module": "@jupyter-widgets/base",
          "model_name": "LayoutModel",
          "model_module_version": "1.2.0",
          "state": {
            "_model_module": "@jupyter-widgets/base",
            "_model_module_version": "1.2.0",
            "_model_name": "LayoutModel",
            "_view_count": null,
            "_view_module": "@jupyter-widgets/base",
            "_view_module_version": "1.2.0",
            "_view_name": "LayoutView",
            "align_content": null,
            "align_items": null,
            "align_self": null,
            "border": null,
            "bottom": null,
            "display": null,
            "flex": null,
            "flex_flow": null,
            "grid_area": null,
            "grid_auto_columns": null,
            "grid_auto_flow": null,
            "grid_auto_rows": null,
            "grid_column": null,
            "grid_gap": null,
            "grid_row": null,
            "grid_template_areas": null,
            "grid_template_columns": null,
            "grid_template_rows": null,
            "height": null,
            "justify_content": null,
            "justify_items": null,
            "left": null,
            "margin": null,
            "max_height": null,
            "max_width": null,
            "min_height": null,
            "min_width": null,
            "object_fit": null,
            "object_position": null,
            "order": null,
            "overflow": null,
            "overflow_x": null,
            "overflow_y": null,
            "padding": null,
            "right": null,
            "top": null,
            "visibility": null,
            "width": null
          }
        },
        "884be35765d94894bcb3d2f3ba193796": {
          "model_module": "@jupyter-widgets/controls",
          "model_name": "ProgressStyleModel",
          "model_module_version": "1.5.0",
          "state": {
            "_model_module": "@jupyter-widgets/controls",
            "_model_module_version": "1.5.0",
            "_model_name": "ProgressStyleModel",
            "_view_count": null,
            "_view_module": "@jupyter-widgets/base",
            "_view_module_version": "1.2.0",
            "_view_name": "StyleView",
            "bar_color": null,
            "description_width": ""
          }
        },
        "43592f23f2cf4915a924a219b76d649b": {
          "model_module": "@jupyter-widgets/base",
          "model_name": "LayoutModel",
          "model_module_version": "1.2.0",
          "state": {
            "_model_module": "@jupyter-widgets/base",
            "_model_module_version": "1.2.0",
            "_model_name": "LayoutModel",
            "_view_count": null,
            "_view_module": "@jupyter-widgets/base",
            "_view_module_version": "1.2.0",
            "_view_name": "LayoutView",
            "align_content": null,
            "align_items": null,
            "align_self": null,
            "border": null,
            "bottom": null,
            "display": null,
            "flex": null,
            "flex_flow": null,
            "grid_area": null,
            "grid_auto_columns": null,
            "grid_auto_flow": null,
            "grid_auto_rows": null,
            "grid_column": null,
            "grid_gap": null,
            "grid_row": null,
            "grid_template_areas": null,
            "grid_template_columns": null,
            "grid_template_rows": null,
            "height": null,
            "justify_content": null,
            "justify_items": null,
            "left": null,
            "margin": null,
            "max_height": null,
            "max_width": null,
            "min_height": null,
            "min_width": null,
            "object_fit": null,
            "object_position": null,
            "order": null,
            "overflow": null,
            "overflow_x": null,
            "overflow_y": null,
            "padding": null,
            "right": null,
            "top": null,
            "visibility": null,
            "width": null
          }
        },
        "3437aa13a9d04b0badc34eda80317965": {
          "model_module": "@jupyter-widgets/controls",
          "model_name": "DescriptionStyleModel",
          "model_module_version": "1.5.0",
          "state": {
            "_model_module": "@jupyter-widgets/controls",
            "_model_module_version": "1.5.0",
            "_model_name": "DescriptionStyleModel",
            "_view_count": null,
            "_view_module": "@jupyter-widgets/base",
            "_view_module_version": "1.2.0",
            "_view_name": "StyleView",
            "description_width": ""
          }
        }
      }
    }
  },
  "cells": [
    {
      "cell_type": "markdown",
      "metadata": {
        "id": "view-in-github",
        "colab_type": "text"
      },
      "source": [
        "<a href=\"https://colab.research.google.com/github/verneh/transformers/blob/main/gan.ipynb\" target=\"_parent\"><img src=\"https://colab.research.google.com/assets/colab-badge.svg\" alt=\"Open In Colab\"/></a>"
      ]
    },
    {
      "cell_type": "markdown",
      "source": [
        "# Introduction"
      ],
      "metadata": {
        "id": "g9GNP9NtfKx-"
      }
    },
    {
      "cell_type": "markdown",
      "source": [
        "Ian Goodfellow version of GAN."
      ],
      "metadata": {
        "id": "lj_TybBTfD5t"
      }
    },
    {
      "cell_type": "markdown",
      "source": [
        "Loss function from the paper: \n",
        "\n",
        "$[log D(x)] + [log(1 − D(G(z)))]$"
      ],
      "metadata": {
        "id": "xr25w0Mphjpe"
      }
    },
    {
      "cell_type": "code",
      "execution_count": 1,
      "metadata": {
        "id": "P3L7SGWsfCM0"
      },
      "outputs": [],
      "source": [
        "# import libraries\n",
        "import torch\n",
        "from torch import nn\n",
        "from torch import optim\n",
        "from torchvision.transforms import transforms\n",
        "import numpy as np\n",
        "from PIL import Image\n",
        "import matplotlib.pyplot as plt\n",
        "\n",
        "from tqdm.notebook import tqdm\n",
        "import warnings\n",
        "warnings.filterwarnings(\"ignore\")"
      ]
    },
    {
      "cell_type": "markdown",
      "source": [
        "# Tensor Transform"
      ],
      "metadata": {
        "id": "UEGdcRCYmlLL"
      }
    },
    {
      "cell_type": "code",
      "source": [
        "# transform image\n",
        "transform = transforms.Compose([\n",
        "                                transforms.Resize((32, 32)),\n",
        "                                transforms.ToTensor()\n",
        "])\n",
        "\n",
        "flat_img = 3072  # 32×32×3 -- size of flattened image in order to train through colab.\n",
        "\n",
        "img = Image.open('/content/heath.jpg')\n",
        "real_img = transform(img)\n",
        "\n",
        "torch.manual_seed(2)\n",
        "fake_img = torch.rand(1, 100)\n",
        "\n",
        "plt.imshow(np.transpose(real_img.numpy(), (1, 2, 0)))\n",
        "print(real_img.size())"
      ],
      "metadata": {
        "colab": {
          "base_uri": "https://localhost:8080/",
          "height": 283
        },
        "id": "ma5Yp5RkkxmS",
        "outputId": "7a3f19c6-4e71-4608-e563-2f2c267f2f15"
      },
      "execution_count": 3,
      "outputs": [
        {
          "output_type": "stream",
          "name": "stdout",
          "text": [
            "torch.Size([3, 32, 32])\n"
          ]
        },
        {
          "output_type": "display_data",
          "data": {
            "text/plain": [
              "<Figure size 432x288 with 1 Axes>"
            ],
            "image/png": "[encoded data removed]"
          },
          "metadata": {
            "needs_background": "light"
          }
        }
      ]
    },
    {
      "cell_type": "markdown",
      "source": [
        "# Modules"
      ],
      "metadata": {
        "id": "bqgacVw9mp0p"
      }
    },
    {
      "cell_type": "markdown",
      "source": [
        "Create a discriminator model which is nothing but a fully connected neural network which takes in a real image or fake image and outputs 0 or 1."
      ],
      "metadata": {
        "id": "1xI9dqGCm9ur"
      }
    },
    {
      "cell_type": "code",
      "source": [
        "class Discriminator(nn.Module):\n",
        "  def __init__(self):\n",
        "    super().__init__()\n",
        "    self.linear = nn.Sequential(\n",
        "        nn.Linear(flat_img, 10000),\n",
        "        nn.ReLU(),\n",
        "        nn.Linear(10000, 1),\n",
        "        nn.Sigmoid()\n",
        "    )\n",
        "\n",
        "  def forward(self, img):\n",
        "    img = img.view(1, -1)\n",
        "    out = self.linear(img)\n",
        "\n",
        "    return out"
      ],
      "metadata": {
        "id": "a3JNDzcTmIaC"
      },
      "execution_count": 4,
      "outputs": []
    },
    {
      "cell_type": "markdown",
      "source": [
        "Create a generator model which is also a fully connected network which takes in a random noise and outputs an image tensor which is of the same size as the real image."
      ],
      "metadata": {
        "id": "6LaZ0a2Wnuqz"
      }
    },
    {
      "cell_type": "code",
      "source": [
        "class Generator(nn.Module):\n",
        "  def __init__(self):\n",
        "    super().__init__()\n",
        "    self.linear = nn.Sequential(\n",
        "        nn.Linear(100, 10000),\n",
        "        nn.LeakyReLU(), # allow a small, positive gradient when the unit is not active.\n",
        "        nn.Linear(10000, 4000),\n",
        "        nn.LeakyReLU(),\n",
        "        nn.Linear(4000, flat_img)\n",
        "    )\n",
        "\n",
        "  def forward(self, latent_space):\n",
        "    latent_space = latent_space.view(1, -1)\n",
        "    out = self.linear(latent_space)\n",
        "\n",
        "    return out"
      ],
      "metadata": {
        "id": "QkRdmGhGno4F"
      },
      "execution_count": 5,
      "outputs": []
    },
    {
      "cell_type": "markdown",
      "source": [
        "# Initialization"
      ],
      "metadata": {
        "id": "5EplQmCCoiFT"
      }
    },
    {
      "cell_type": "code",
      "source": [
        "device = 'cuda:0' if torch.cuda.is_available() else 'cpu'\n",
        "\n",
        "discr = Discriminator().to(device)\n",
        "gen = Generator().to(device)\n",
        "\n",
        "opt_d = optim.SGD(discr.parameters(), lr=0.001, momentum=0.9)\n",
        "opt_g = optim.SGD(gen.parameters(), lr=0.001, momentum=0.9)\n",
        "\n",
        "criterion = nn.BCELoss()"
      ],
      "metadata": {
        "id": "zKbh3jcen9zE"
      },
      "execution_count": 6,
      "outputs": []
    },
    {
      "cell_type": "markdown",
      "source": [
        "# Training"
      ],
      "metadata": {
        "id": "Nbj1pd8UooqJ"
      }
    },
    {
      "cell_type": "code",
      "source": [
        "epochs = 500\n",
        "discr_e = 4 \n",
        "gen_e = 3\n",
        "\n",
        "#whole model training starts here\n",
        "for epoch in tqdm(range(epochs), total=epochs):\n",
        "\n",
        "  #discriminator training\n",
        "  for k in range(discr_e):\n",
        "    opt_d.zero_grad()\n",
        "\n",
        "    out_d1 = discr(real_img.to(device))\n",
        "    #loss for real image\n",
        "    loss_d1 = criterion(out_d1, torch.ones((1, 1)).to(device))\n",
        "    loss_d1.backward()\n",
        "\n",
        "    out_d2 = gen(fake_img.to(device)).detach()\n",
        "    #loss for fake image\n",
        "    loss_d2 = criterion(discr(out_d2.to(device)), torch.zeros((1, 1)).to(device))\n",
        "    loss_d2.backward()\n",
        "\n",
        "    opt_d.step()\n",
        "\n",
        "  #generator training\n",
        "  for i in range(gen_e):\n",
        "    opt_g.zero_grad()\n",
        "    \n",
        "    out_g = gen(fake_img.to(device))\n",
        "    \n",
        "    #Binary cross entropy loss\n",
        "    #loss_g =  criterion(discr(out_g.to(device)), torch.ones(1, 1).to(device))\n",
        "\n",
        "    #----Loss function in the GAN paper\n",
        "    #[log(1 - D(G(z)))]\n",
        "    loss_g = torch.log(1.0 - (discr(out_g.to(device)))) \n",
        "    loss_g.backward()\n",
        "\n",
        "    opt_g.step()"
      ],
      "metadata": {
        "colab": {
          "base_uri": "https://localhost:8080/",
          "height": 49,
          "referenced_widgets": [
            "0077f130a498452b89c3f0e337151d81",
            "f665a53b2fc84014a80cc21e3acac323",
            "6d5bf29bd0e4419d852927e6e4aa6b75",
            "8b4306dfd57b4a6e809f65969fd876aa",
            "410c0c293c5a46e6aa139e7ba743dc41",
            "a70738666a374cf8a1a0492e83229953",
            "9c140ced6c0244788ea1e0dd918700b2",
            "771adf637df24ed1a34cdb4774ff750a",
            "884be35765d94894bcb3d2f3ba193796",
            "43592f23f2cf4915a924a219b76d649b",
            "3437aa13a9d04b0badc34eda80317965"
          ]
        },
        "id": "sbFz1Md4oj1a",
        "outputId": "0f533820-8358-463b-8b28-9eaded3d75a8"
      },
      "execution_count": 7,
      "outputs": [
        {
          "output_type": "display_data",
          "data": {
            "text/plain": [
              "  0%|          | 0/500 [00:00<?, ?it/s]"
            ],
            "application/vnd.jupyter.widget-view+json": {
              "version_major": 2,
              "version_minor": 0,
              "model_id": "0077f130a498452b89c3f0e337151d81"
            }
          },
          "metadata": {}
        }
      ]
    },
    {
      "cell_type": "code",
      "source": [
        "# Original and generated image.\n",
        "plt.figure(figsize=(8, 8))\n",
        "\n",
        "plt.subplot(1, 2, 1)\n",
        "plt.title(\"Generated Image\")\n",
        "plt.xticks([])\n",
        "plt.yticks([])\n",
        "plt.imshow(np.transpose(out_g.resize(3, 32, 32).cpu().detach().numpy(), (1, 2, 0)))\n",
        "\n",
        "plt.subplot(1, 2, 2)\n",
        "plt.title(\"Original Image\")\n",
        "plt.xticks([])\n",
        "plt.yticks([])\n",
        "plt.imshow(np.transpose(real_img.numpy(), (1, 2, 0)))\n",
        "plt.show()"
      ],
      "metadata": {
        "colab": {
          "base_uri": "https://localhost:8080/",
          "height": 270
        },
        "id": "UNLOd2JUoz5G",
        "outputId": "8bc1f632-a4cb-4b72-9429-f4155372bdcb"
      },
      "execution_count": 8,
      "outputs": [
        {
          "output_type": "stream",
          "name": "stderr",
          "text": [
            "Clipping input data to the valid range for imshow with RGB data ([0..1] for floats or [0..255] for integers).\n"
          ]
        },
        {
          "output_type": "display_data",
          "data": {
            "text/plain": [
              "<Figure size 576x576 with 2 Axes>"
            ],
            "image/png": "[encoded data removed]"
          },
          "metadata": {}
        }
      ]
    },
    {
      "cell_type": "code",
      "source": [
        ""
      ],
      "metadata": {
        "id": "0giiWSUKpsoc"
      },
      "execution_count": null,
      "outputs": []
    }
  ]
}